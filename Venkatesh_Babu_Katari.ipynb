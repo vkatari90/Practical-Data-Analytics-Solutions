{
  "nbformat": 4,
  "nbformat_minor": 0,
  "metadata": {
    "colab": {
      "provenance": [],
      "authorship_tag": "ABX9TyM5aDbECz1OVmgtbsimvJWm",
      "include_colab_link": true
    },
    "kernelspec": {
      "name": "python3",
      "display_name": "Python 3"
    },
    "language_info": {
      "name": "python"
    }
  },
  "cells": [
    {
      "cell_type": "markdown",
      "metadata": {
        "id": "view-in-github",
        "colab_type": "text"
      },
      "source": [
        "<a href=\"https://colab.research.google.com/github/vkatari90/Practical-Data-Analytics-Solutions/blob/week1/Venkatesh_Babu_Katari.ipynb\" target=\"_parent\"><img src=\"https://colab.research.google.com/assets/colab-badge.svg\" alt=\"Open In Colab\"/></a>"
      ]
    },
    {
      "cell_type": "code",
      "execution_count": 1,
      "metadata": {
        "id": "l_KjciEcHDKl"
      },
      "outputs": [],
      "source": [
        "# WEEK1"
      ]
    },
    {
      "cell_type": "code",
      "source": [],
      "metadata": {
        "id": "rn6afT0lJPbw"
      },
      "execution_count": null,
      "outputs": []
    }
  ]
}