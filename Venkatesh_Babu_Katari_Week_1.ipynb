{
  "nbformat": 4,
  "nbformat_minor": 0,
  "metadata": {
    "colab": {
      "provenance": [],
      "authorship_tag": "ABX9TyPGFU5nq+0aLGru9jBYMmUu",
      "include_colab_link": true
    },
    "kernelspec": {
      "name": "python3",
      "display_name": "Python 3"
    },
    "language_info": {
      "name": "python"
    }
  },
  "cells": [
    {
      "cell_type": "markdown",
      "metadata": {
        "id": "view-in-github",
        "colab_type": "text"
      },
      "source": [
        "<a href=\"https://colab.research.google.com/github/vkatari90/Practical-Data-Analytics-Solutions/blob/main/Venkatesh_Babu_Katari_Week_1.ipynb\" target=\"_parent\"><img src=\"https://colab.research.google.com/assets/colab-badge.svg\" alt=\"Open In Colab\"/></a>"
      ]
    },
    {
      "cell_type": "code",
      "execution_count": 1,
      "metadata": {
        "id": "l_KjciEcHDKl"
      },
      "outputs": [],
      "source": [
        "# WEEK1"
      ]
    },
    {
      "cell_type": "code",
      "source": [
        "# Venkatesh Babu Katari"
      ],
      "metadata": {
        "id": "rn6afT0lJPbw"
      },
      "execution_count": 2,
      "outputs": []
    },
    {
      "cell_type": "code",
      "source": [
        "# IT7103 Summer 2024"
      ],
      "metadata": {
        "id": "oea5_XoRKa3p"
      },
      "execution_count": 3,
      "outputs": []
    }
  ]
}